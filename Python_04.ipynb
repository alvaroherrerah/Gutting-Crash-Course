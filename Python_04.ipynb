{
 "cells": [
  {
   "cell_type": "code",
   "execution_count": 55,
   "id": "initial_id",
   "metadata": {
    "collapsed": true,
    "ExecuteTime": {
     "end_time": "2024-02-29T23:39:51.351081200Z",
     "start_time": "2024-02-29T23:39:51.343493500Z"
    }
   },
   "outputs": [
    {
     "name": "stdout",
     "output_type": "stream",
     "text": [
      "arriba\n",
      "arriba\n"
     ]
    }
   ],
   "source": [
    "diccionario = {'casa': 'arriba', 'curso': 3}\n",
    "\n",
    "fre = diccionario.get(\"casa\")\n",
    "print(fre)\n",
    "diccionario = {'tupper': 'hora', 'curso': 3}\n",
    "print(fre)"
   ]
  },
  {
   "cell_type": "code",
   "outputs": [
    {
     "name": "stdout",
     "output_type": "stream",
     "text": [
      "{'tupper': 'hora', 'curso': 3, 'autor': 'Pepe', 'titulo': 'Torrente'}\n"
     ]
    }
   ],
   "source": [
    "diccionario[\"autor\"] = \"Pepe\"\n",
    "diccionario[\"titulo\"] = \"Torrente\"\n",
    "\n",
    "print(diccionario)"
   ],
   "metadata": {
    "collapsed": false,
    "ExecuteTime": {
     "end_time": "2024-02-29T23:39:51.352115600Z",
     "start_time": "2024-02-29T23:39:51.347302700Z"
    }
   },
   "id": "e39f80b3b67cc87f",
   "execution_count": 56
  },
  {
   "cell_type": "code",
   "outputs": [
    {
     "name": "stdout",
     "output_type": "stream",
     "text": [
      "{'datos': {'tupper': 'hora', 'curso': 3, 'autor': 'Pepe', 'titulo': 'Torrente'}, 'revista': 'Revista del'}\n"
     ]
    }
   ],
   "source": [
    "alien_01 = {\"datos\": diccionario, \"revista\": \"Revista del\"}\n",
    "\n",
    "print(alien_01)"
   ],
   "metadata": {
    "collapsed": false,
    "ExecuteTime": {
     "end_time": "2024-02-29T23:39:51.363696500Z",
     "start_time": "2024-02-29T23:39:51.353115100Z"
    }
   },
   "id": "a0426a9443ba3dcb",
   "execution_count": 57
  },
  {
   "cell_type": "code",
   "outputs": [
    {
     "name": "stdout",
     "output_type": "stream",
     "text": [
      "Pera\n",
      "{'datos': {'tupper': 'Pera', 'curso': 3, 'autor': 'Pepe', 'titulo': 'Torrente'}, 'revista': 'Revista del'}\n"
     ]
    }
   ],
   "source": [
    "alien_01['datos']['tupper'] = 'Pera'\n",
    "print(alien_01['datos']['tupper'])\n",
    "print(alien_01)"
   ],
   "metadata": {
    "collapsed": false,
    "ExecuteTime": {
     "end_time": "2024-02-29T23:39:51.364726100Z",
     "start_time": "2024-02-29T23:39:51.355758700Z"
    }
   },
   "id": "53a7bdf42b45fbc9",
   "execution_count": 58
  },
  {
   "cell_type": "code",
   "outputs": [
    {
     "name": "stdout",
     "output_type": "stream",
     "text": [
      "Original x-position: 0\n",
      "{'x_position': 1, 'y_position': 25, 'speed': 'medium'}\n"
     ]
    }
   ],
   "source": [
    "alien_0 = {'x_position': 0, 'y_position': 25, 'speed': 'medium'}\n",
    "print(\"Original x-position: \" + str(alien_0['x_position']))\n",
    "\n",
    "if alien_0['speed'] == 'medium':\n",
    "    x_incre = 1\n",
    "elif alien_0['speed'] == 'slow':\n",
    "    x_incre = 2\n",
    "\n",
    "alien_0['x_position'] = alien_0['x_position'] + x_incre\n",
    "print(alien_0)\n"
   ],
   "metadata": {
    "collapsed": false,
    "ExecuteTime": {
     "end_time": "2024-02-29T23:39:51.365767100Z",
     "start_time": "2024-02-29T23:39:51.361116700Z"
    }
   },
   "id": "cb86e9f1723aa5e6",
   "execution_count": 59
  },
  {
   "cell_type": "code",
   "outputs": [
    {
     "name": "stdout",
     "output_type": "stream",
     "text": [
      "{'y_position': 25, 'speed': 'medium'}\n"
     ]
    }
   ],
   "source": [
    "del alien_0['x_position']\n",
    "print(alien_0)"
   ],
   "metadata": {
    "collapsed": false,
    "ExecuteTime": {
     "end_time": "2024-02-29T23:39:51.388933200Z",
     "start_time": "2024-02-29T23:39:51.366766100Z"
    }
   },
   "id": "2594ea28e6d68d72",
   "execution_count": 60
  },
  {
   "cell_type": "code",
   "outputs": [
    {
     "name": "stdout",
     "output_type": "stream",
     "text": [
      "key:  username\n",
      "value: efermi \n",
      "\n",
      "key:  first\n",
      "value: enrico \n",
      "\n",
      "key:  last\n",
      "value: fermi \n"
     ]
    }
   ],
   "source": [
    "user_0 = {\n",
    "'username': 'efermi',\n",
    "'first': 'enrico',\n",
    "'last': 'fermi',\n",
    "}\n",
    "\n",
    "for key, value in user_0.items():\n",
    "    print(f\"key:  {key}\")\n",
    "    print(f\"value: {value} \\n\")"
   ],
   "metadata": {
    "collapsed": false,
    "ExecuteTime": {
     "end_time": "2024-02-29T23:39:51.388933200Z",
     "start_time": "2024-02-29T23:39:51.370982800Z"
    }
   },
   "id": "dcdd60a42eed9aa",
   "execution_count": 61
  },
  {
   "cell_type": "code",
   "outputs": [
    {
     "name": "stdout",
     "output_type": "stream",
     "text": [
      "El lenguaje favorito de Jen es ['python', 'R']. \n",
      "\n",
      "El lenguaje favorito de Sarah es c. \n",
      "\n",
      "El lenguaje favorito de Edward es ruby. \n",
      "\n",
      "El lenguaje favorito de Phil es python. \n"
     ]
    }
   ],
   "source": [
    "favorite_languages = {\n",
    "'jen': ['python', \"R\"],  #cambiar a character si se quiere\n",
    "'sarah': 'c',\n",
    "'edward': 'ruby',\n",
    "'phil': 'python',\n",
    "}\n",
    "\n",
    "for name, language in favorite_languages.items():\n",
    "    print(f\"El lenguaje favorito de {name.title()} es {language}. \\n\")\n",
    "    "
   ],
   "metadata": {
    "collapsed": false,
    "ExecuteTime": {
     "end_time": "2024-02-29T23:39:51.400899100Z",
     "start_time": "2024-02-29T23:39:51.391953200Z"
    }
   },
   "id": "b99dfd929a522482",
   "execution_count": 62
  },
  {
   "cell_type": "code",
   "outputs": [
    {
     "name": "stdout",
     "output_type": "stream",
     "text": [
      "Jen\n",
      "Sarah\n",
      "Edward\n",
      "Phil\n"
     ]
    }
   ],
   "source": [
    "# default code (no es necesario usar .keys):\n",
    "for names in favorite_languages:\n",
    "    print(names.title())"
   ],
   "metadata": {
    "collapsed": false,
    "ExecuteTime": {
     "end_time": "2024-02-29T23:39:51.428380600Z",
     "start_time": "2024-02-29T23:39:51.396195700Z"
    }
   },
   "id": "8ce4b1e857603e1d",
   "execution_count": 63
  },
  {
   "cell_type": "code",
   "outputs": [
    {
     "name": "stdout",
     "output_type": "stream",
     "text": [
      "['python', 'R']\n",
      "c\n",
      "ruby\n",
      "python\n"
     ]
    }
   ],
   "source": [
    "for names in favorite_languages.values():\n",
    "    print(names)"
   ],
   "metadata": {
    "collapsed": false,
    "ExecuteTime": {
     "end_time": "2024-02-29T23:39:51.429401300Z",
     "start_time": "2024-02-29T23:39:51.400344400Z"
    }
   },
   "id": "f889f0126cacab44",
   "execution_count": 64
  },
  {
   "cell_type": "code",
   "outputs": [
    {
     "name": "stdout",
     "output_type": "stream",
     "text": [
      "Jen Python es una mierda.\n",
      "Aprende R. \n",
      "\n",
      "Phil Python es una mierda.\n",
      "Aprende R. \n"
     ]
    }
   ],
   "source": [
    "favorite_languages = {\n",
    "'jen': 'python',\n",
    "'sarah': 'c',\n",
    "'edward': 'ruby',\n",
    "'phil': 'python',\n",
    "'madona': 'c',\n",
    "'ronaldiño': 'python'\n",
    "}\n",
    "\n",
    "amigos = ['jen', 'phil']\n",
    "\n",
    "for nombre, lenguaje in favorite_languages.items():\n",
    "    if nombre in amigos:\n",
    "        print(f\"{nombre.title()} {lenguaje.title()} es una mierda.\")\n",
    "        print(\"Aprende R. \\n\")   "
   ],
   "metadata": {
    "collapsed": false,
    "ExecuteTime": {
     "end_time": "2024-03-01T08:33:04.230506200Z",
     "start_time": "2024-03-01T08:33:04.223653500Z"
    }
   },
   "id": "61de164004e6c789",
   "execution_count": 6
  },
  {
   "cell_type": "code",
   "outputs": [
    {
     "name": "stdout",
     "output_type": "stream",
     "text": [
      "Jen Python es una mierda.\n",
      "Aprende R. \n",
      "\n",
      "Phil Python es una mierda.\n",
      "Aprende R. \n"
     ]
    }
   ],
   "source": [
    "# otra manera\n",
    "for nombre in favorite_languages.keys():\n",
    "    if nombre in amigos:\n",
    "        print(f\"{nombre.title()} {favorite_languages[nombre].title()} es una mierda.\")\n",
    "        print(\"Aprende R. \\n\")"
   ],
   "metadata": {
    "collapsed": false,
    "ExecuteTime": {
     "end_time": "2024-02-29T23:39:51.459503700Z",
     "start_time": "2024-02-29T23:39:51.432465900Z"
    }
   },
   "id": "f5112b5ee70279a6",
   "execution_count": 66
  },
  {
   "cell_type": "code",
   "outputs": [
    {
     "name": "stdout",
     "output_type": "stream",
     "text": [
      "1: edward\n",
      "1: jen\n",
      "1: madona\n",
      "1: phil\n",
      "1: ronaldiño\n",
      "1: sarah\n"
     ]
    }
   ],
   "source": [
    "for keys in sorted(favorite_languages.keys()):\n",
    "    print(f\"1: {keys}\")"
   ],
   "metadata": {
    "collapsed": false,
    "ExecuteTime": {
     "end_time": "2024-02-29T23:39:51.480850400Z",
     "start_time": "2024-02-29T23:39:51.462564400Z"
    }
   },
   "id": "c076aabb65d8be7e",
   "execution_count": 67
  },
  {
   "cell_type": "code",
   "outputs": [
    {
     "name": "stdout",
     "output_type": "stream",
     "text": [
      "c\n",
      "python\n",
      "ruby\n"
     ]
    }
   ],
   "source": [
    "for valor in set(favorite_languages.values()):\n",
    "    print(valor)"
   ],
   "metadata": {
    "collapsed": false,
    "ExecuteTime": {
     "end_time": "2024-02-29T23:39:51.489184700Z",
     "start_time": "2024-02-29T23:39:51.483571700Z"
    }
   },
   "id": "614c750383bb3d2b",
   "execution_count": 68
  },
  {
   "cell_type": "code",
   "outputs": [
    {
     "name": "stdout",
     "output_type": "stream",
     "text": [
      "{'color': 'green', 'points': 5, 'speed': 'slow'}\n",
      "{'color': 'blue', 'points': 3, 'speed': 'mid'}\n",
      "{'color': 'red', 'points': 10, 'speed': 'fast'}\n",
      "{'color': 'green', 'points': 5, 'speed': 'slow'}\n",
      "{'color': 'blue', 'points': 3, 'speed': 'mid'}\n",
      "...\n"
     ]
    }
   ],
   "source": [
    "aliens = []\n",
    "# Make 30 green aliens.\n",
    "for alien_number in range(10):\n",
    "    green_alien = {'color': 'green', 'points': 5, 'speed': 'slow'}\n",
    "    blue_alien = {'color': 'blue', 'points': 3, 'speed': 'mid'}\n",
    "    red_alien = {'color': 'red', 'points': 10, 'speed': 'fast'}\n",
    "\n",
    "    aliens.append(green_alien)\n",
    "    aliens.append(blue_alien)\n",
    "    aliens.append(red_alien)\n",
    "\n",
    "for alien in aliens[:5]:\n",
    "    print(alien)\n",
    "print(\"...\")"
   ],
   "metadata": {
    "collapsed": false,
    "ExecuteTime": {
     "end_time": "2024-03-01T08:23:37.971869800Z",
     "start_time": "2024-03-01T08:23:37.951296400Z"
    }
   },
   "id": "842242c01019409c",
   "execution_count": 1
  },
  {
   "cell_type": "code",
   "outputs": [
    {
     "name": "stdout",
     "output_type": "stream",
     "text": [
      "\n",
      " For Jen its favourites languages are: \n",
      "\tPython\n",
      "\tRuby\n",
      "\n",
      " El lenguaje favorito de sarah es: \n",
      "\tC\n",
      "\n",
      " For Edward its favourites languages are: \n",
      "\tRuby\n",
      "\tGo\n",
      "\n",
      " For Phil its favourites languages are: \n",
      "\tPython\n",
      "\tHaskell\n"
     ]
    }
   ],
   "source": [
    "favorite_languages = {\n",
    "'jen': ['python', 'ruby'],\n",
    "'sarah': ['c'],\n",
    "'edward': ['ruby', 'go'],\n",
    "'phil': ['python', 'haskell'],\n",
    "}\n",
    "\n",
    "for name, lenguas in favorite_languages.items():\n",
    "    if len(favorite_languages[name]) > 1:\n",
    "        print(f\"\\n For {name.title()} its favourites languages are: \")\n",
    "        for lengua in lenguas:\n",
    "            print(f\"\\t{lengua.title()}\")\n",
    "    else:\n",
    "        print(f\"\\n El lenguaje favorito de {name} es: \")\n",
    "        for lengua in lenguas:\n",
    "            print(f\"\\t{lengua.title()}\")\n"
   ],
   "metadata": {
    "collapsed": false,
    "ExecuteTime": {
     "end_time": "2024-03-01T09:02:39.253156100Z",
     "start_time": "2024-03-01T09:02:39.243260800Z"
    }
   },
   "id": "90564ddc7d23184",
   "execution_count": 38
  },
  {
   "cell_type": "code",
   "outputs": [
    {
     "name": "stdout",
     "output_type": "stream",
     "text": [
      "\n",
      "Nombre completo:\n",
      "\tAlbert Einstein\n",
      "Y nació en: \n",
      "\tPrinceton.\n",
      "\n",
      "Nombre completo:\n",
      "\tMarie Curie\n",
      "Y nació en: \n",
      "\tParis.\n"
     ]
    }
   ],
   "source": [
    "users = {\n",
    "    'aeinstein': {\n",
    "        'first': 'albert',\n",
    "        'last': 'einstein',\n",
    "        'location': 'princeton',\n",
    "    },\n",
    "    'mcurie': {\n",
    "        'first': 'marie',\n",
    "        'last': 'curie',\n",
    "        'location': 'paris',\n",
    "    },\n",
    "}\n",
    "\n",
    "for user, position in users.items():\n",
    "    print(f\"\\nNombre completo:\")\n",
    "    full_name = position['first'] + \" \" + position['last']\n",
    "    print(f'\\t{full_name.title()}')\n",
    "    local = position['location']\n",
    "    print(f'Y nació en: \\n\\t{local.title()}.')"
   ],
   "metadata": {
    "collapsed": false,
    "ExecuteTime": {
     "end_time": "2024-03-01T09:23:01.690705400Z",
     "start_time": "2024-03-01T09:23:01.677895200Z"
    }
   },
   "id": "5e399079429bb4a9",
   "execution_count": 49
  },
  {
   "cell_type": "code",
   "outputs": [],
   "source": [],
   "metadata": {
    "collapsed": false
   },
   "id": "1595df2ad8d2a6ef"
  }
 ],
 "metadata": {
  "kernelspec": {
   "display_name": "Python 3",
   "language": "python",
   "name": "python3"
  },
  "language_info": {
   "codemirror_mode": {
    "name": "ipython",
    "version": 2
   },
   "file_extension": ".py",
   "mimetype": "text/x-python",
   "name": "python",
   "nbconvert_exporter": "python",
   "pygments_lexer": "ipython2",
   "version": "2.7.6"
  }
 },
 "nbformat": 4,
 "nbformat_minor": 5
}
