{
 "cells": [
  {
   "cell_type": "code",
   "execution_count": 2,
   "id": "initial_id",
   "metadata": {
    "collapsed": true,
    "ExecuteTime": {
     "end_time": "2024-03-10T19:10:46.559443800Z",
     "start_time": "2024-03-10T19:10:46.547555300Z"
    }
   },
   "outputs": [
    {
     "name": "stdout",
     "output_type": "stream",
     "text": [
      "['Audi', 'BMW', 'Subaru', 'Toyota']\n"
     ]
    }
   ],
   "source": [
    "cars = ['audi', 'bmw', 'subaru', 'toyota']\n",
    "corregido = []\n",
    "\n",
    "for car in cars:\n",
    "    if car == 'bmw': \n",
    "        corregido.append(car.upper())\n",
    "    else: \n",
    "        corregido.append(car.title())\n",
    "\n",
    "print(corregido)"
   ]
  },
  {
   "cell_type": "code",
   "outputs": [],
   "source": [
    "respuesta = 25\n",
    "#cuando usamos and no es necesario especificar\n",
    "if 18 < respuesta < 25: \n",
    "    print(\"No, jódete mamón\")"
   ],
   "metadata": {
    "collapsed": false,
    "ExecuteTime": {
     "end_time": "2024-03-10T19:10:46.559443800Z",
     "start_time": "2024-03-10T19:10:46.552811600Z"
    }
   },
   "id": "9a16a0238ff8fe62",
   "execution_count": 3
  },
  {
   "cell_type": "code",
   "outputs": [
    {
     "name": "stdout",
     "output_type": "stream",
     "text": [
      "No, jódete mamón\n"
     ]
    }
   ],
   "source": [
    "respuesta = 26\n",
    "# cuando usamos or es necesario especificar\n",
    "if respuesta > 18 or respuesta < 25: \n",
    "    print(\"No, jódete mamón\")"
   ],
   "metadata": {
    "collapsed": false,
    "ExecuteTime": {
     "end_time": "2024-03-10T19:10:46.593962900Z",
     "start_time": "2024-03-10T19:10:46.562521Z"
    }
   },
   "id": "6a3cfb291e54e2dd",
   "execution_count": 4
  },
  {
   "cell_type": "code",
   "outputs": [
    {
     "data": {
      "text/plain": "True"
     },
     "execution_count": 5,
     "metadata": {},
     "output_type": "execute_result"
    }
   ],
   "source": [
    "cars = ['audi', 'bmw', 'subaru', 'toyota']\n",
    "\n",
    "'toyota' in cars"
   ],
   "metadata": {
    "collapsed": false,
    "ExecuteTime": {
     "end_time": "2024-03-10T19:10:46.608829800Z",
     "start_time": "2024-03-10T19:10:46.567529100Z"
    }
   },
   "id": "818508a8cddba774",
   "execution_count": 5
  },
  {
   "cell_type": "code",
   "outputs": [
    {
     "data": {
      "text/plain": "True"
     },
     "execution_count": 6,
     "metadata": {},
     "output_type": "execute_result"
    }
   ],
   "source": [
    "\n",
    "cars[2] == 'subaru'"
   ],
   "metadata": {
    "collapsed": false,
    "ExecuteTime": {
     "end_time": "2024-03-10T19:10:46.638340Z",
     "start_time": "2024-03-10T19:10:46.597029200Z"
    }
   },
   "id": "4ea10a4729a10bca",
   "execution_count": 6
  },
  {
   "cell_type": "code",
   "outputs": [
    {
     "name": "stdout",
     "output_type": "stream",
     "text": [
      "Sorry, you are too young to vote.\n",
      "Please register to vote as soon as you turn 18!\n"
     ]
    }
   ],
   "source": [
    "age = 17\n",
    "if age >= 18:\n",
    "    print(\"You are old enough to vote!\")\n",
    "    print(\"Have you registered to vote yet?\")\n",
    "else:\n",
    "    print(\"Sorry, you are too young to vote.\\nPlease register to vote as soon as you turn 18!\")"
   ],
   "metadata": {
    "collapsed": false,
    "ExecuteTime": {
     "end_time": "2024-03-10T19:10:46.659602900Z",
     "start_time": "2024-03-10T19:10:46.641927400Z"
    }
   },
   "id": "28b39977842b6340",
   "execution_count": 7
  },
  {
   "cell_type": "code",
   "outputs": [
    {
     "name": "stdout",
     "output_type": "stream",
     "text": [
      "Dado que tienes 1 año no puedes pasar\n",
      "Dado que tienes 2 años no puedes pasar\n",
      "Dado que tienes 3 años no puedes pasar\n",
      "Dado que tienes 4 años no puedes pasar\n",
      "Dado que tienes 5 años no puedes pasar\n",
      "Dado que tienes 6 años tienes que tener cuidado\n",
      "Dado que tienes 7 años tienes que tener cuidado\n",
      "Dado que tienes 8 años tienes que tener cuidado\n",
      "Dado que tienes 9 años tienes que tener cuidado\n",
      "Dado que tienes 10 años tienes que tener cuidado\n",
      "Dado que tienes 11 años tienes que tener cuidado\n",
      "Dado que tienes 12 años tienes que tener cuidado\n",
      "Dado que tienes 13 años tienes que tener cuidado\n",
      "Dado que tienes 14 años tienes que tener cuidado\n",
      "Dado que tienes 15 años tienes que tener cuidado\n",
      "Dado que tienes 16 años puedes pasar\n",
      "Dado que tienes 17 años puedes pasar\n",
      "Dado que tienes 18 años puedes pasar\n",
      "Dado que tienes 19 años puedes pasar\n",
      "Dado que tienes 20 años puedes pasar\n"
     ]
    }
   ],
   "source": [
    "edades = list(range(1,21))\n",
    "\n",
    "for edad in edades:\n",
    "    if edad == 1:\n",
    "        print(\"Dado que tienes \" + str(edad) + \" año no puedes pasar\")\n",
    "    elif 1 < edad <= 5:\n",
    "        print(\"Dado que tienes \" + str(edad) + \" años no puedes pasar\")\n",
    "    \n",
    "    elif 5 < edad < 16:\n",
    "        print(\"Dado que tienes \" + str(edad) + \" años tienes que tener cuidado\")\n",
    "        \n",
    "    else: \n",
    "        print(\"Dado que tienes \" + str(edad) + \" años puedes pasar\")\n"
   ],
   "metadata": {
    "collapsed": false,
    "ExecuteTime": {
     "end_time": "2024-03-10T19:10:46.660602300Z",
     "start_time": "2024-03-10T19:10:46.647548300Z"
    }
   },
   "id": "f0b4c181754bfa56",
   "execution_count": 8
  },
  {
   "cell_type": "code",
   "outputs": [
    {
     "name": "stdout",
     "output_type": "stream",
     "text": [
      "Dado que tienes 1 año no puedes pasar\n",
      "Dado que tienes 2 años no puedes pasar\n",
      "Dado que tienes 3 años no puedes pasar\n",
      "Dado que tienes 4 años no puedes pasar\n",
      "Dado que tienes 5 años no puedes pasar\n",
      "Dado que tienes 6 años tienes que tener cuidado\n",
      "Dado que tienes 7 años tienes que tener cuidado\n",
      "Dado que tienes 8 años tienes que tener cuidado\n",
      "Dado que tienes 9 años tienes que tener cuidado\n",
      "Dado que tienes 10 años tienes que tener cuidado\n",
      "Dado que tienes 11 años tienes que tener cuidado\n",
      "Dado que tienes 12 años tienes que tener cuidado\n",
      "Dado que tienes 13 años tienes que tener cuidado\n",
      "Dado que tienes 14 años tienes que tener cuidado\n",
      "Dado que tienes 15 años tienes que tener cuidado\n",
      "Dado que tienes 16 años puedes pasar\n",
      "Dado que tienes 17 años puedes pasar\n",
      "Dado que tienes 18 años puedes pasar\n",
      "Dado que tienes 19 años puedes pasar\n",
      "Dado que tienes 20 años puedes pasar\n"
     ]
    }
   ],
   "source": [
    "edades = [1, 2, 3, 4, 5, 6, 7, 8, 9, 10, 11, 12, 13, 14, 15, 16, 17, 18, 19, 20]\n",
    "\n",
    "for edad in edades:\n",
    "    if edad == 1:\n",
    "        # otra forma de usar print\n",
    "        print(f\"Dado que tienes {str(edad)} año no puedes pasar\")\n",
    "    elif 1 < edad <= 5:\n",
    "        print(f\"Dado que tienes {str(edad)} años no puedes pasar\")\n",
    "    \n",
    "    elif 5 < edad < 16:\n",
    "        print(f\"Dado que tienes {str(edad)} años tienes que tener cuidado\")\n",
    "        \n",
    "    else: \n",
    "        print(f\"Dado que tienes {str(edad)} años puedes pasar\")"
   ],
   "metadata": {
    "collapsed": false,
    "ExecuteTime": {
     "end_time": "2024-03-10T19:10:46.682660Z",
     "start_time": "2024-03-10T19:10:46.664659500Z"
    }
   },
   "id": "fe37000ab37dc6d2",
   "execution_count": 9
  },
  {
   "cell_type": "code",
   "outputs": [
    {
     "name": "stdout",
     "output_type": "stream",
     "text": [
      "Sin existencias\n",
      "Enviando green peppers\n",
      "Enviando extra cheese\n",
      "\n",
      "Total: ['green peppers', 'extra cheese']\n"
     ]
    }
   ],
   "source": [
    "requested_toppings = ['mushrooms', 'green peppers', 'extra cheese']\n",
    "lista = []\n",
    "if requested_toppings:\n",
    "    for requested_topping in requested_toppings:\n",
    "        if requested_topping == 'mushrooms':\n",
    "            print(\"Sin existencias\")\n",
    "    \n",
    "        else:\n",
    "            lista.append(requested_topping)\n",
    "            print(f\"Enviando {requested_topping}\")\n",
    "    print(f\"\\nTotal: {lista}\")\n",
    "else: print(\"Seguro que quieres pizza\")"
   ],
   "metadata": {
    "collapsed": false,
    "ExecuteTime": {
     "end_time": "2024-03-10T19:10:46.719459600Z",
     "start_time": "2024-03-10T19:10:46.672249800Z"
    }
   },
   "id": "fa812171ad218fe8",
   "execution_count": 10
  },
  {
   "cell_type": "code",
   "outputs": [
    {
     "name": "stdout",
     "output_type": "stream",
     "text": [
      "Añadiendo mushrooms\n",
      "Añadiendo extra cheese\n"
     ]
    }
   ],
   "source": [
    "available_toppings = ['mushrooms', 'olives', 'green peppers', 'pepperoni', 'pineapple', 'extra cheese']\n",
    "\n",
    "requested_toppings = ['mushrooms', 'french fries', 'extra cheese']\n",
    "\n",
    "for requested_topping in requested_toppings:\n",
    "    if requested_topping in available_toppings: \n",
    "        print(f\"Añadiendo {requested_topping}\")\n",
    "    \n",
    "    \n"
   ],
   "metadata": {
    "collapsed": false,
    "ExecuteTime": {
     "end_time": "2024-03-10T19:10:46.722522500Z",
     "start_time": "2024-03-10T19:10:46.687159700Z"
    }
   },
   "id": "401cb8f6609bd928",
   "execution_count": 11
  }
 ],
 "metadata": {
  "kernelspec": {
   "display_name": "Python 3",
   "language": "python",
   "name": "python3"
  },
  "language_info": {
   "codemirror_mode": {
    "name": "ipython",
    "version": 2
   },
   "file_extension": ".py",
   "mimetype": "text/x-python",
   "name": "python",
   "nbconvert_exporter": "python",
   "pygments_lexer": "ipython2",
   "version": "2.7.6"
  }
 },
 "nbformat": 4,
 "nbformat_minor": 5
}
